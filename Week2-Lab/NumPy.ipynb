{
 "cells": [
  {
   "cell_type": "code",
   "execution_count": 1,
   "id": "638dac51",
   "metadata": {},
   "outputs": [],
   "source": [
    "import numpy as np"
   ]
  },
  {
   "cell_type": "code",
   "execution_count": 2,
   "id": "c282a0a0",
   "metadata": {},
   "outputs": [
    {
     "name": "stdout",
     "output_type": "stream",
     "text": [
      "[1.2 2.4 3.5 4.7 6.1 7.2 8.3 9.5]\n"
     ]
    }
   ],
   "source": [
    "one_dimensional_array= np.array([1.2, 2.4, 3.5, 4.7, 6.1, 7.2, 8.3, 9.5])\n",
    "print(one_dimensional_array)"
   ]
  },
  {
   "cell_type": "code",
   "execution_count": 4,
   "id": "a58429e1",
   "metadata": {},
   "outputs": [
    {
     "name": "stdout",
     "output_type": "stream",
     "text": [
      "[[ 6  5]\n",
      " [11  7]\n",
      " [ 4  8]]\n"
     ]
    }
   ],
   "source": [
    "two_dimensional_array=np.array([[6, 5], [11,7], [4, 8]])\n",
    "print(two_dimensional_array)"
   ]
  },
  {
   "cell_type": "code",
   "execution_count": 5,
   "id": "d83c6b33",
   "metadata": {},
   "outputs": [
    {
     "name": "stdout",
     "output_type": "stream",
     "text": [
      "[ 5  6  7  8  9 10 11]\n"
     ]
    }
   ],
   "source": [
    "sequence_of_integers=np.arange(5, 12)\n",
    "print(sequence_of_integers)"
   ]
  },
  {
   "cell_type": "code",
   "execution_count": 9,
   "id": "eb1b98e8",
   "metadata": {},
   "outputs": [
    {
     "name": "stdout",
     "output_type": "stream",
     "text": [
      "[78 52 57 58 88 51]\n"
     ]
    }
   ],
   "source": [
    "random_integers_between_50_and_100=np.random.randint(low=50, high=101, size=(6))\n",
    "print(random_integers_between_50_and_100)"
   ]
  },
  {
   "cell_type": "code",
   "execution_count": 14,
   "id": "11010615",
   "metadata": {},
   "outputs": [
    {
     "name": "stdout",
     "output_type": "stream",
     "text": [
      "[0.79937908 0.16083559 0.51780227 0.7302468  0.96502921 0.43826516]\n"
     ]
    }
   ],
   "source": [
    "random_floats_between_0_and_1=np.random.random([6])\n",
    "print(random_floats_between_0_and_1)"
   ]
  },
  {
   "cell_type": "code",
   "execution_count": 15,
   "id": "f0013ed5",
   "metadata": {},
   "outputs": [
    {
     "name": "stdout",
     "output_type": "stream",
     "text": [
      "[2.79937908 2.16083559 2.51780227 2.7302468  2.96502921 2.43826516]\n"
     ]
    }
   ],
   "source": [
    "random_floats_between_2_and_3=random_floats_between_0_and_1 +2.0\n",
    "print(random_floats_between_2_and_3)"
   ]
  },
  {
   "cell_type": "code",
   "execution_count": 17,
   "id": "d23fc978",
   "metadata": {},
   "outputs": [
    {
     "name": "stdout",
     "output_type": "stream",
     "text": [
      "[234 156 171 174 264 153]\n"
     ]
    }
   ],
   "source": [
    "random_integers_between_150_and_300= random_integers_between_50_and_100*3\n",
    "print(random_integers_between_150_and_300)"
   ]
  },
  {
   "cell_type": "code",
   "execution_count": 20,
   "id": "0db9519a",
   "metadata": {},
   "outputs": [
    {
     "name": "stdout",
     "output_type": "stream",
     "text": [
      "[ 6  7  8  9 10 11 12 13 14 15 16 17 18 19 20]\n",
      "[22 25 28 31 34 37 40 43 46 49 52 55 58 61 64]\n"
     ]
    }
   ],
   "source": [
    "#Create a Linear Dataset\n",
    "feature= np.arange(6, 21)\n",
    "print(feature)\n",
    "\n",
    "label= (feature*3)+4\n",
    "print(label)"
   ]
  },
  {
   "cell_type": "code",
   "execution_count": null,
   "id": "1b649ad2",
   "metadata": {},
   "outputs": [],
   "source": [
    "noise = (np.random.random([15])*4)\n",
    "print(noise)\n",
    "label=label+noise"
   ]
  }
 ],
 "metadata": {
  "kernelspec": {
   "display_name": "Python 3 (ipykernel)",
   "language": "python",
   "name": "python3"
  },
  "language_info": {
   "codemirror_mode": {
    "name": "ipython",
    "version": 3
   },
   "file_extension": ".py",
   "mimetype": "text/x-python",
   "name": "python",
   "nbconvert_exporter": "python",
   "pygments_lexer": "ipython3",
   "version": "3.9.7"
  }
 },
 "nbformat": 4,
 "nbformat_minor": 5
}
