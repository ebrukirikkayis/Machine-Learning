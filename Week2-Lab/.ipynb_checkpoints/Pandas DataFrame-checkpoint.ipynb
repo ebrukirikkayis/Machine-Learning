{
 "cells": [
  {
   "cell_type": "code",
   "execution_count": 1,
   "id": "9cb7a2b5",
   "metadata": {},
   "outputs": [],
   "source": [
    "import numpy as np\n",
    "import pandas as pd"
   ]
  },
  {
   "cell_type": "code",
   "execution_count": 3,
   "id": "1760c4e2",
   "metadata": {},
   "outputs": [
    {
     "name": "stdout",
     "output_type": "stream",
     "text": [
      "   temprature  activity\n",
      "0           0         3\n",
      "1          10         7\n",
      "2          20         9\n",
      "3          30        14\n",
      "4          40        15\n"
     ]
    }
   ],
   "source": [
    "my_data=np.array([[0,3], [10,7], [20,9], [30,14], [40,15]])\n",
    "my_column_names=['temprature', 'activity']\n",
    "my_dataframe=pd.DataFrame(data=my_data, columns=my_column_names)\n",
    "print(my_dataframe)"
   ]
  },
  {
   "cell_type": "code",
   "execution_count": 4,
   "id": "61de3aa4",
   "metadata": {},
   "outputs": [
    {
     "name": "stdout",
     "output_type": "stream",
     "text": [
      "   temprature  activity  adjusted\n",
      "0           0         3         5\n",
      "1          10         7         9\n",
      "2          20         9        11\n",
      "3          30        14        16\n",
      "4          40        15        17\n"
     ]
    }
   ],
   "source": [
    "my_dataframe[\"adjusted\"]=my_dataframe[\"activity\"]+2\n",
    "print(my_dataframe)"
   ]
  },
  {
   "cell_type": "code",
   "execution_count": 5,
   "id": "2fb683f4",
   "metadata": {},
   "outputs": [
    {
     "name": "stdout",
     "output_type": "stream",
     "text": [
      "Rows #0, #1, and #2:\n",
      "   temprature  activity  adjusted\n",
      "0           0         3         5\n",
      "1          10         7         9\n",
      "2          20         9        11 \n",
      "\n",
      "Row #2:\n",
      "   temprature  activity  adjusted\n",
      "2          20         9        11 \n",
      "\n",
      "Rows #1, #2, and #3:\n",
      "   temprature  activity  adjusted\n",
      "1          10         7         9\n",
      "2          20         9        11\n",
      "3          30        14        16 \n",
      "\n",
      "Column 'temprature':\n",
      "0     0\n",
      "1    10\n",
      "2    20\n",
      "3    30\n",
      "4    40\n",
      "Name: temprature, dtype: int32\n"
     ]
    }
   ],
   "source": [
    "print(\"Rows #0, #1, and #2:\")\n",
    "print(my_dataframe.head(3), '\\n')\n",
    "\n",
    "print(\"Row #2:\")\n",
    "print(my_dataframe.iloc[[2]], '\\n')\n",
    "\n",
    "print(\"Rows #1, #2, and #3:\")\n",
    "print(my_dataframe[1:4], '\\n')\n",
    "\n",
    "print(\"Column 'temprature':\")\n",
    "print(my_dataframe['temprature'])"
   ]
  },
  {
   "cell_type": "code",
   "execution_count": 6,
   "id": "adce3301",
   "metadata": {},
   "outputs": [
    {
     "name": "stdout",
     "output_type": "stream",
     "text": [
      "   Eleanor  Chidi  Tahani  Jason\n",
      "0       64     68      13     10\n",
      "1       47     68      68     87\n",
      "2       83      2      47     80\n",
      "\n",
      "Second row of the Eleanor column: 47\n",
      "\n",
      "   Eleanor  Chidi  Tahani  Jason  Janet\n",
      "0       64     68      13     10     23\n",
      "1       47     68      68     87    155\n",
      "2       83      2      47     80    127\n"
     ]
    }
   ],
   "source": [
    "#Task1\n",
    "my_column_names=['Eleanor', 'Chidi', 'Tahani', 'Jason']\n",
    "my_data=np.random.randint(low=0, high=101, size=(3, 4))\n",
    "df=pd.DataFrame(data=my_data, columns=my_column_names)\n",
    "print(df)\n",
    "print(\"\\nSecond row of the Eleanor column: %d\\n\" %df['Eleanor'][1])\n",
    "df['Janet']=df['Tahani']+df['Jason']\n",
    "print(df)"
   ]
  },
  {
   "cell_type": "code",
   "execution_count": 10,
   "id": "f56f55a8",
   "metadata": {},
   "outputs": [
    {
     "name": "stdout",
     "output_type": "stream",
     "text": [
      "Experiment with a referance:\n",
      "Starting value of df: 87\n",
      "Starting value of referance_to_df: 87\n",
      "\n",
      "Updated df: 92\n",
      "Updated referance_to_df: 92\n",
      "\n",
      "\n",
      "Experiment with a true copy:\n",
      "Starting value of my_dataframe: 7\n",
      "Starting value of copy_of_my_dataframe: 7\n",
      "\n",
      " Updated my_dataframe: 10\n",
      " copy_of_my_dataframe does not get updated: 7\n"
     ]
    }
   ],
   "source": [
    "#Copying a DataFrame\n",
    "print(\"Experiment with a referance:\")\n",
    "referance_to_df=df\n",
    "\n",
    "print(\"Starting value of df: %d\" % df['Jason'][1])\n",
    "print(\"Starting value of referance_to_df: %d\\n\" % referance_to_df['Jason'][1])\n",
    "\n",
    "df.at[1, 'Jason']=df['Jason'][1]+5\n",
    "print(\"Updated df: %d\" % df['Jason'][1])\n",
    "print(\"Updated referance_to_df: %d\\n\\n\" % referance_to_df['Jason'][1])\n",
    "\n",
    "print(\"Experiment with a true copy:\")\n",
    "copy_of_my_dataframe =my_dataframe.copy()\n",
    "\n",
    "print(\"Starting value of my_dataframe: %d\" % my_dataframe['activity'][1])\n",
    "print(\"Starting value of copy_of_my_dataframe: %d\\n\" % copy_of_my_dataframe['activity'][1])\n",
    "\n",
    "my_dataframe.at[1,'activity']=my_dataframe['activity'][1]+3\n",
    "print(\" Updated my_dataframe: %d\" % my_dataframe['activity'][1])\n",
    "print(\" copy_of_my_dataframe does not get updated: %d\" % copy_of_my_dataframe['activity'][1])"
   ]
  },
  {
   "cell_type": "code",
   "execution_count": null,
   "id": "7ab51dfc",
   "metadata": {},
   "outputs": [],
   "source": []
  }
 ],
 "metadata": {
  "kernelspec": {
   "display_name": "Python 3 (ipykernel)",
   "language": "python",
   "name": "python3"
  },
  "language_info": {
   "codemirror_mode": {
    "name": "ipython",
    "version": 3
   },
   "file_extension": ".py",
   "mimetype": "text/x-python",
   "name": "python",
   "nbconvert_exporter": "python",
   "pygments_lexer": "ipython3",
   "version": "3.9.7"
  }
 },
 "nbformat": 4,
 "nbformat_minor": 5
}
